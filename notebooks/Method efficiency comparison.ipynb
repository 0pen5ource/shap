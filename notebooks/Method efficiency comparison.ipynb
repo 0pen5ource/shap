{
 "cells": [
  {
   "cell_type": "code",
   "execution_count": 1,
   "metadata": {
    "collapsed": true
   },
   "outputs": [],
   "source": [
    "import shap\n",
    "import numpy.random\n",
    "import numpy.linalg\n",
    "import numpy as np\n",
    "from lime.lime_text import LimeTextExplainer"
   ]
  },
  {
   "cell_type": "code",
   "execution_count": 2,
   "metadata": {
    "collapsed": false
   },
   "outputs": [
    {
     "name": "stderr",
     "output_type": "stream",
     "text": [
      "/Users/slund1/anaconda3/lib/python3.5/re.py:203: FutureWarning: split() requires a non-empty pattern match.\n",
      "  return _compile(pattern, flags).split(string, maxsplit)\n"
     ]
    },
    {
     "data": {
      "text/plain": [
       "[('headache', -0.16797374846574542),\n",
       " ('congestion', 0.1355913938980613),\n",
       " ('fever', 0.1301733100704961)]"
      ]
     },
     "execution_count": 2,
     "metadata": {},
     "output_type": "execute_result"
    }
   ],
   "source": [
    "\n",
    "def predict_txt(txt_list):\n",
    "    out = []\n",
    "    data = np.zeros((len(txt_list),4))\n",
    "    out = []\n",
    "    for i in range(len(txt_list)):\n",
    "        words = txt_list[i].split()\n",
    "        prob = 0.0\n",
    "        if \"fever\" in words and \"congestion\" in words and \"cough\" in words:\n",
    "            prob += 0.60\n",
    "        out.append(prob)\n",
    "    out = np.array(out)\n",
    "    return np.transpose(np.vstack([1-out, out]))\n",
    "\n",
    "explainer = LimeTextExplainer(class_names=[\"a\", \"b\"])\n",
    "\n",
    "exp = explainer.explain_instance(\"fever cough congestion headache\", predict_txt, num_features=3)\n",
    "exp.as_list()"
   ]
  },
  {
   "cell_type": "code",
   "execution_count": 35,
   "metadata": {
    "collapsed": true
   },
   "outputs": [],
   "source": [
    "def gen_input(N):\n",
    "    x = np.ones((1,N))\n",
    "    x[0,0] = np.random.choice([0,0,4,5,6])\n",
    "    x[0,1] = np.random.choice([0,0,4,5,6])\n",
    "    x[0,2] = np.random.choice([0,0,4,5,6])\n",
    "    x[0,int(N/2)] = np.random.choice([0,0,4,5,6])\n",
    "    x[0,int(N/2) + 1] = np.random.choice([0,0,4,5,6])\n",
    "    return x"
   ]
  },
  {
   "cell_type": "code",
   "execution_count": 36,
   "metadata": {
    "collapsed": false
   },
   "outputs": [
    {
     "data": {
      "text/plain": [
       "array([ 1.,  1.,  1.])"
      ]
     },
     "execution_count": 36,
     "metadata": {},
     "output_type": "execute_result"
    }
   ],
   "source": [
    "np.max(np.ones((3,5)),1)"
   ]
  },
  {
   "cell_type": "code",
   "execution_count": 37,
   "metadata": {
    "collapsed": true
   },
   "outputs": [],
   "source": [
    "def f(x):\n",
    "    halfway = int(x.shape[1]/2)\n",
    "    return np.max(x[:,0:3],1) + np.max(x[:,halfway:halfway+2],1)"
   ]
  },
  {
   "cell_type": "code",
   "execution_count": 41,
   "metadata": {
    "collapsed": false
   },
   "outputs": [
    {
     "data": {
      "text/plain": [
       "array([[ 0.,  4.,  6.,  1.,  1.,  1.,  1.,  0.,  4.,  1.,  1.,  1.,  1.,\n",
       "         1.]])"
      ]
     },
     "execution_count": 41,
     "metadata": {},
     "output_type": "execute_result"
    }
   ],
   "source": [
    "x = gen_input(14)\n",
    "x"
   ]
  },
  {
   "cell_type": "code",
   "execution_count": 42,
   "metadata": {
    "collapsed": false
   },
   "outputs": [
    {
     "data": {
      "text/plain": [
       "array([[ 0.,  4.,  6.,  1.,  1.,  1.,  1.,  0.,  4.,  1.,  1.,  1.,  1.,\n",
       "         1.]])"
      ]
     },
     "execution_count": 42,
     "metadata": {},
     "output_type": "execute_result"
    }
   ],
   "source": [
    "x"
   ]
  },
  {
   "cell_type": "code",
   "execution_count": 43,
   "metadata": {
    "collapsed": false
   },
   "outputs": [
    {
     "name": "stdout",
     "output_type": "stream",
     "text": [
      "nsamples 4094\n"
     ]
    }
   ],
   "source": [
    "exp = shap.KernelExplainer(f, np.zeros((1,14)))\n",
    "truth = exp.explain(x, nsamples=100000).effects"
   ]
  },
  {
   "cell_type": "code",
   "execution_count": 44,
   "metadata": {
    "collapsed": false
   },
   "outputs": [
    {
     "data": {
      "text/plain": [
       "array([ 0.,  2.,  4.,  0.,  0.,  0.,  0.,  0.,  4.,  0.,  0.,  0.,  0.,  0.])"
      ]
     },
     "execution_count": 44,
     "metadata": {},
     "output_type": "execute_result"
    }
   ],
   "source": [
    "truth"
   ]
  },
  {
   "cell_type": "code",
   "execution_count": 45,
   "metadata": {
    "collapsed": false
   },
   "outputs": [
    {
     "data": {
      "text/plain": [
       "array([ 10.])"
      ]
     },
     "execution_count": 45,
     "metadata": {},
     "output_type": "execute_result"
    }
   ],
   "source": [
    "f(x)"
   ]
  },
  {
   "cell_type": "code",
   "execution_count": 46,
   "metadata": {
    "collapsed": false
   },
   "outputs": [
    {
     "name": "stdout",
     "output_type": "stream",
     "text": [
      "nsamples 20\n",
      "20 [ 0.  2.  4.  0.  0.  0.  0.  0.  4.  0.  0.  0.  0.  0.]\n",
      "nsamples 120\n",
      "120 [ 0.  2.  4.  0.  0.  0.  0.  0.  4.  0.  0.  0.  0.  0.]\n",
      "nsamples 220\n",
      "220 [ 0.  2.  4.  0.  0.  0.  0.  0.  4.  0.  0.  0.  0.  0.]\n",
      "nsamples 320\n",
      "320 [ 0.  2.  4.  0.  0.  0.  0.  0.  4.  0.  0.  0.  0.  0.]\n",
      "nsamples 420\n",
      "420 [ 0.  2.  4.  0.  0.  0.  0.  0.  4.  0.  0.  0.  0.  0.]\n",
      "nsamples 520\n",
      "520 [ 0.  2.  4.  0.  0.  0.  0.  0.  4.  0.  0.  0.  0.  0.]\n",
      "nsamples 620\n",
      "620 [ 0.  2.  4.  0.  0.  0.  0.  0.  4.  0.  0.  0.  0.  0.]\n",
      "nsamples 720\n",
      "720 [ 0.  2.  4.  0.  0.  0.  0.  0.  4.  0.  0.  0.  0.  0.]\n",
      "nsamples 820\n",
      "820 [ 0.  2.  4.  0.  0.  0.  0.  0.  4.  0.  0.  0.  0.  0.]\n",
      "nsamples 920\n",
      "920 [ 0.  2.  4.  0.  0.  0.  0.  0.  4.  0.  0.  0.  0.  0.]\n",
      "nsamples 1020\n",
      "1020 [ 0.  2.  4.  0.  0.  0.  0.  0.  4.  0.  0.  0.  0.  0.]\n",
      "nsamples 1120\n",
      "1120 [ 0.  2.  4.  0.  0.  0.  0.  0.  4.  0.  0.  0.  0.  0.]\n",
      "nsamples 1220\n",
      "1220 [ 0.  2.  4.  0.  0.  0.  0.  0.  4.  0.  0.  0.  0.  0.]\n",
      "nsamples 1320\n",
      "1320 [ 0.  2.  4.  0.  0.  0.  0.  0.  4.  0.  0.  0.  0.  0.]\n",
      "nsamples 1420\n",
      "1420 [ 0.  2.  4.  0.  0.  0.  0.  0.  4.  0.  0.  0.  0.  0.]\n",
      "nsamples 1520\n",
      "1520 [ 0.  2.  4.  0.  0.  0.  0.  0.  4.  0.  0.  0.  0.  0.]\n",
      "nsamples 1620\n",
      "1620 [ 0.  2.  4.  0.  0.  0.  0.  0.  4.  0.  0.  0.  0.  0.]\n",
      "nsamples 1720\n",
      "1720 [ 0.  2.  4.  0.  0.  0.  0.  0.  4.  0.  0.  0.  0.  0.]\n",
      "nsamples 1820\n",
      "1820 [ 0.  2.  4.  0.  0.  0.  0.  0.  4.  0.  0.  0.  0.  0.]\n",
      "nsamples 1920\n",
      "1920 [ 0.  2.  4.  0.  0.  0.  0.  0.  4.  0.  0.  0.  0.  0.]\n"
     ]
    }
   ],
   "source": [
    "shap_performance = []\n",
    "for nsamples in range(20,2000,100):\n",
    "    exp = shap.KernelExplainer(f, np.zeros((1,14)))\n",
    "    shap_effects = exp.explain(x, nsamples=nsamples).effects\n",
    "    print(nsamples, shap_effects)\n",
    "    shap_performance.append(np.linalg.norm(truth - shap_effects))"
   ]
  },
  {
   "cell_type": "code",
   "execution_count": 156,
   "metadata": {
    "collapsed": false
   },
   "outputs": [
    {
     "data": {
      "text/plain": [
       "[0.0,\n",
       " 0.0,\n",
       " 0.0,\n",
       " 0.0,\n",
       " 0.0,\n",
       " 0.0,\n",
       " 0.0,\n",
       " 0.0,\n",
       " 0.0,\n",
       " 0.0,\n",
       " 0.0,\n",
       " 0.0,\n",
       " 0.0,\n",
       " 0.0,\n",
       " 0.0,\n",
       " 0.0,\n",
       " 0.0,\n",
       " 0.0]"
      ]
     },
     "execution_count": 156,
     "metadata": {},
     "output_type": "execute_result"
    }
   ],
   "source": [
    "shap_performance"
   ]
  },
  {
   "cell_type": "code",
   "execution_count": 147,
   "metadata": {
    "collapsed": false
   },
   "outputs": [],
   "source": [
    "exp = shap.KernelExplainer(f, np.zeros((1,10)))"
   ]
  },
  {
   "cell_type": "code",
   "execution_count": 148,
   "metadata": {
    "collapsed": false
   },
   "outputs": [
    {
     "data": {
      "text/plain": [
       "array([ 2.,  4.,  0.,  0.,  0.,  4.,  0.,  0.,  0.,  0.])"
      ]
     },
     "execution_count": 148,
     "metadata": {},
     "output_type": "execute_result"
    }
   ],
   "source": [
    "exp.explain(x).effects"
   ]
  },
  {
   "cell_type": "code",
   "execution_count": 136,
   "metadata": {
    "collapsed": false
   },
   "outputs": [
    {
     "data": {
      "text/plain": [
       "0.0"
      ]
     },
     "execution_count": 136,
     "metadata": {},
     "output_type": "execute_result"
    }
   ],
   "source": [
    "f(np.zeros((1,10)))"
   ]
  },
  {
   "cell_type": "code",
   "execution_count": null,
   "metadata": {
    "collapsed": true
   },
   "outputs": [],
   "source": []
  }
 ],
 "metadata": {
  "anaconda-cloud": {},
  "kernelspec": {
   "display_name": "Python [default]",
   "language": "python",
   "name": "python3"
  },
  "language_info": {
   "codemirror_mode": {
    "name": "ipython",
    "version": 3
   },
   "file_extension": ".py",
   "mimetype": "text/x-python",
   "name": "python",
   "nbconvert_exporter": "python",
   "pygments_lexer": "ipython3",
   "version": "3.5.2"
  }
 },
 "nbformat": 4,
 "nbformat_minor": 1
}

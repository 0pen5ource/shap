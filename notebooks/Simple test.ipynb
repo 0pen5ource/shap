{
 "cells": [
  {
   "cell_type": "code",
   "execution_count": 5,
   "metadata": {
    "collapsed": false
   },
   "outputs": [],
   "source": [
    "import shap\n",
    "import numpy as np\n",
    "from lime.lime_text import LimeTextExplainer"
   ]
  },
  {
   "cell_type": "code",
   "execution_count": 34,
   "metadata": {
    "collapsed": true
   },
   "outputs": [],
   "source": [
    "def predict_mat(data):\n",
    "    out = []\n",
    "    for i in range(data.shape[0]):\n",
    "        score = 0.0\n",
    "#         if data[i,0] == 1:\n",
    "#             score += 2\n",
    "        if data[i,0] == 1 and data[i,1] == 1 and data[i,2] == 1:\n",
    "            score += 3\n",
    "#         if data[i,3] == 1:\n",
    "#             score += 2\n",
    "    \n",
    "        out.append(score)\n",
    "    return np.array(out)\n",
    "\n",
    "def predict_txt(txt_list):\n",
    "    out = []\n",
    "    data = np.zeros((len(txt_list),4))\n",
    "    for i in range(len(txt_list)):\n",
    "        words = txt_list[i].split()\n",
    "        score = 0\n",
    "        if \"fever\" in words:\n",
    "            data[i,0] = 1 \n",
    "        if \"cough\" in words:\n",
    "            data[i,1] = 1\n",
    "        if \"congestion\" in words:\n",
    "            data[i,2] = 1\n",
    "        if \"headache\" in words:\n",
    "            data[i,3] = 1\n",
    "    \n",
    "    out = predict_mat(data)\n",
    "    \n",
    "    return np.transpose(np.vstack([1-out/10, out/10]))"
   ]
  },
  {
   "cell_type": "code",
   "execution_count": 45,
   "metadata": {
    "collapsed": true
   },
   "outputs": [],
   "source": [
    "def predict_txt(txt_list):\n",
    "    out = []\n",
    "    data = np.zeros((len(txt_list),4))\n",
    "    out = []\n",
    "    for i in range(len(txt_list)):\n",
    "        words = txt_list[i].split()\n",
    "        prob = 0.0\n",
    "        if \"fever\" in words and \"congestion\" in words and \"headache\" in words:\n",
    "            prob += 0.3\n",
    "        out.append(prob)\n",
    "    out = np.array(out)\n",
    "    return np.transpose(np.vstack([1-out, out]))"
   ]
  },
  {
   "cell_type": "code",
   "execution_count": 46,
   "metadata": {
    "collapsed": false
   },
   "outputs": [],
   "source": [
    "explainer = LimeTextExplainer(class_names=[\"a\", \"b\"])"
   ]
  },
  {
   "cell_type": "code",
   "execution_count": 49,
   "metadata": {
    "collapsed": false
   },
   "outputs": [
    {
     "name": "stderr",
     "output_type": "stream",
     "text": [
      "/Users/slund1/anaconda3/lib/python3.5/re.py:203: FutureWarning: split() requires a non-empty pattern match.\n",
      "  return _compile(pattern, flags).split(string, maxsplit)\n"
     ]
    },
    {
     "data": {
      "text/plain": [
       "[('cough', -0.088078177108161765),\n",
       " ('headache', 0.066822302562414504),\n",
       " ('fever', 0.065929796649600803)]"
      ]
     },
     "execution_count": 49,
     "metadata": {},
     "output_type": "execute_result"
    }
   ],
   "source": [
    "exp = explainer.explain_instance(\"fever cough congestion headache\", predict_txt, num_features=3)\n",
    "exp.as_list()"
   ]
  },
  {
   "cell_type": "code",
   "execution_count": 27,
   "metadata": {
    "collapsed": false
   },
   "outputs": [
    {
     "data": {
      "text/plain": [
       "array([ 5.,  5.,  5.,  0.])"
      ]
     },
     "execution_count": 27,
     "metadata": {},
     "output_type": "execute_result"
    }
   ],
   "source": [
    "exp = shap.KernelExplainer(predict_mat, np.zeros((1,4)))\n",
    "e = exp.explain(np.array([[1.,1,1,1]]))\n",
    "e.effects"
   ]
  },
  {
   "cell_type": "code",
   "execution_count": null,
   "metadata": {
    "collapsed": true
   },
   "outputs": [],
   "source": []
  },
  {
   "cell_type": "code",
   "execution_count": null,
   "metadata": {
    "collapsed": true
   },
   "outputs": [],
   "source": []
  }
 ],
 "metadata": {
  "anaconda-cloud": {},
  "kernelspec": {
   "display_name": "Python [default]",
   "language": "python",
   "name": "python3"
  },
  "language_info": {
   "codemirror_mode": {
    "name": "ipython",
    "version": 3
   },
   "file_extension": ".py",
   "mimetype": "text/x-python",
   "name": "python",
   "nbconvert_exporter": "python",
   "pygments_lexer": "ipython3",
   "version": "3.5.2"
  }
 },
 "nbformat": 4,
 "nbformat_minor": 1
}

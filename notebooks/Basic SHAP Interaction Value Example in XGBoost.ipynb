{
 "cells": [
  {
   "cell_type": "markdown",
   "metadata": {},
   "source": [
    "# Basic SHAP Interaction Value Example in XGBoost\n",
    "\n",
    "This notebook shows how the SHAP interaction values for a very simple function are computed. We start with a simple linear function, and then add an interaction term to see how it changes the SHAP values and the SHAP interaction values."
   ]
  },
  {
   "cell_type": "code",
   "execution_count": 1,
   "metadata": {
    "collapsed": true
   },
   "outputs": [],
   "source": [
    "import xgboost as xgb\n",
    "import numpy as np\n",
    "import shap"
   ]
  },
  {
   "cell_type": "markdown",
   "metadata": {},
   "source": [
    "## Explain a linear function with no interactions"
   ]
  },
  {
   "cell_type": "code",
   "execution_count": 2,
   "metadata": {},
   "outputs": [],
   "source": [
    "# simulate some binary data and a linear outcome with an interaction term\n",
    "# note we make the features in X perfectly independent of each other to make\n",
    "# it easy to solve for the exact SHAP values\n",
    "N = 2000\n",
    "X = np.zeros((N,5))\n",
    "feature_names=[\"Feature \"+str(v) for v in range(5)]\n",
    "X[:1000,0] = 1\n",
    "X[:500,1] = 1\n",
    "X[1000:1500,1] = 1\n",
    "X[:250,2] = 1\n",
    "X[500:750,2] = 1\n",
    "X[1000:1250,2] = 1\n",
    "X[1500:1750,2] = 1\n",
    "y = 2* X[:,0] - 3 * X[:,1]"
   ]
  },
  {
   "cell_type": "code",
   "execution_count": 3,
   "metadata": {},
   "outputs": [
    {
     "data": {
      "text/plain": [
       "array([[ 0.25012506,  0.        ,  0.        ,  0.        ,  0.        ],\n",
       "       [ 0.        ,  0.25012506,  0.        ,  0.        ,  0.        ],\n",
       "       [ 0.        ,  0.        ,  0.25012506,  0.        ,  0.        ],\n",
       "       [ 0.        ,  0.        ,  0.        ,  0.        ,  0.        ],\n",
       "       [ 0.        ,  0.        ,  0.        ,  0.        ,  0.        ]])"
      ]
     },
     "execution_count": 3,
     "metadata": {},
     "output_type": "execute_result"
    }
   ],
   "source": [
    "# ensure the variables are independence\n",
    "np.cov(X.T)"
   ]
  },
  {
   "cell_type": "code",
   "execution_count": 4,
   "metadata": {},
   "outputs": [
    {
     "name": "stdout",
     "output_type": "stream",
     "text": [
      "0:[f1<0.5] yes=1,no=2,missing=1,gain=4500,cover=2000\n",
      "\t1:[f0<0.5] yes=3,no=4,missing=3,gain=1000,cover=1000\n",
      "\t\t3:leaf=-0,cover=500\n",
      "\t\t4:leaf=2,cover=500\n",
      "\t2:[f0<0.5] yes=5,no=6,missing=5,gain=1000,cover=1000\n",
      "\t\t5:leaf=-3,cover=500\n",
      "\t\t6:leaf=-1,cover=500\n",
      "\n"
     ]
    }
   ],
   "source": [
    "# train a model with single tree\n",
    "Xd = xgb.DMatrix(X, label=y)\n",
    "model = xgb.train({\n",
    "    'eta':1, 'max_depth':3, 'base_score': 0, \"lambda\": 0\n",
    "}, Xd, 1)\n",
    "print(model.get_dump(with_stats=True)[0])"
   ]
  },
  {
   "cell_type": "code",
   "execution_count": 5,
   "metadata": {},
   "outputs": [
    {
     "data": {
      "text/plain": [
       "0.0"
      ]
     },
     "execution_count": 5,
     "metadata": {},
     "output_type": "execute_result"
    }
   ],
   "source": [
    "# make sure the SHAP values add up to marginal predictions\n",
    "pred = model.predict(Xd, output_margin=True)\n",
    "shap_values = model.predict(Xd, pred_contribs=True)\n",
    "np.abs(shap_values.sum(1) - pred).max()"
   ]
  },
  {
   "cell_type": "markdown",
   "metadata": {},
   "source": [
    "If we build a summary plot we see that only features 1 and 2 have any effect, and that their effects only have two possible magnitudes (one for 0 and for 1)."
   ]
  },
  {
   "cell_type": "code",
   "execution_count": 6,
   "metadata": {},
   "outputs": [
    {
     "data": {
      "image/png": "[encoded data removed]",
      "text/plain": [
       "<matplotlib.figure.Figure at 0x1a147c1668>"
      ]
     },
     "metadata": {},
     "output_type": "display_data"
    }
   ],
   "source": [
    "shap.summary_plot(shap_values, X, feature_names=feature_names)"
   ]
  },
  {
   "cell_type": "code",
   "execution_count": 7,
   "metadata": {},
   "outputs": [
    {
     "data": {
      "text/plain": [
       "array([ 1. , -1.5,  0. ,  0. ,  0. , -0.5], dtype=float32)"
      ]
     },
     "execution_count": 7,
     "metadata": {},
     "output_type": "execute_result"
    }
   ],
   "source": [
    "shap_values[0]"
   ]
  },
  {
   "cell_type": "code",
   "execution_count": 8,
   "metadata": {},
   "outputs": [
    {
     "data": {
      "text/plain": [
       "0.0"
      ]
     },
     "execution_count": 8,
     "metadata": {},
     "output_type": "execute_result"
    }
   ],
   "source": [
    "# Make sure the computed SHAP values match the true SHAP values\n",
    "# (we can compute the true SHAP values directly for this simple case)\n",
    "true_shap_values = np.zeros(shap_values.shape)\n",
    "true_shap_values[:,-1] = y.mean()\n",
    "true_shap_values[:,0] = 2. * (X[:,0] - X[:,0].mean())\n",
    "true_shap_values[:,1] = -3. * (X[:,1] - X[:,1].mean())\n",
    "np.abs((true_shap_values - shap_values)).sum()"
   ]
  },
  {
   "cell_type": "markdown",
   "metadata": {},
   "source": [
    "### SHAP Interaction Values\n",
    "\n",
    "Note that when there are no interactions present the SHAP interaction values are just a diagonal matrix with the SHAP values on the diagonal."
   ]
  },
  {
   "cell_type": "code",
   "execution_count": 9,
   "metadata": {},
   "outputs": [
    {
     "data": {
      "text/plain": [
       "array([[ 1. ,  0. ,  0. ,  0. ,  0. ,  0. ],\n",
       "       [ 0. , -1.5,  0. ,  0. ,  0. ,  0. ],\n",
       "       [ 0. ,  0. ,  0. ,  0. ,  0. ,  0. ],\n",
       "       [ 0. ,  0. ,  0. ,  0. ,  0. ,  0. ],\n",
       "       [ 0. ,  0. ,  0. ,  0. ,  0. ,  0. ],\n",
       "       [ 0. ,  0. ,  0. ,  0. ,  0. , -0.5]], dtype=float32)"
      ]
     },
     "execution_count": 9,
     "metadata": {},
     "output_type": "execute_result"
    }
   ],
   "source": [
    "intr = model.predict(Xd, pred_interactions=True)\n",
    "intr[0]"
   ]
  },
  {
   "cell_type": "markdown",
   "metadata": {},
   "source": [
    "## Explain a linear model with one interaction"
   ]
  },
  {
   "cell_type": "code",
   "execution_count": 10,
   "metadata": {
    "collapsed": true
   },
   "outputs": [],
   "source": [
    "# simulate some binary data and a linear outcome with an interaction term\n",
    "# note we make the features in X perfectly independent of each other to make\n",
    "# it easy to solve for the exact SHAP values\n",
    "N = 2000\n",
    "X = np.zeros((N,5))\n",
    "X[:1000,0] = 1\n",
    "\n",
    "X[:500,1] = 1\n",
    "X[1000:1500,1] = 1\n",
    "\n",
    "X[:250,2] = 1\n",
    "X[500:750,2] = 1\n",
    "X[1000:1250,2] = 1\n",
    "X[1500:1750,2] = 1\n",
    "\n",
    "X[:125,3] = 1\n",
    "X[250:375,3] = 1\n",
    "X[500:625,3] = 1\n",
    "X[750:875,3] = 1\n",
    "X[1000:1125,3] = 1\n",
    "X[1250:1375,3] = 1\n",
    "X[1500:1625,3] = 1\n",
    "X[1750:1875,3] = 1\n",
    "y = 2* X[:,0] - 3 * X[:,1] + 2 * X[:,2] * X[:,3]"
   ]
  },
  {
   "cell_type": "code",
   "execution_count": 11,
   "metadata": {},
   "outputs": [
    {
     "name": "stdout",
     "output_type": "stream",
     "text": [
      "0:[f1<0.5] yes=1,no=2,missing=1,gain=4500,cover=2000\n",
      "\t1:[f0<0.5] yes=3,no=4,missing=3,gain=1000,cover=1000\n",
      "\t\t3:[f2<0.5] yes=7,no=8,missing=7,gain=125,cover=500\n",
      "\t\t\t7:leaf=-0,cover=250\n",
      "\t\t\t8:[f3<0.5] yes=15,no=16,missing=15,gain=250,cover=250\n",
      "\t\t\t\t15:leaf=-0,cover=125\n",
      "\t\t\t\t16:leaf=2,cover=125\n",
      "\t\t4:[f2<0.5] yes=9,no=10,missing=9,gain=125,cover=500\n",
      "\t\t\t9:leaf=2,cover=250\n",
      "\t\t\t10:[f3<0.5] yes=17,no=18,missing=17,gain=250,cover=250\n",
      "\t\t\t\t17:leaf=2,cover=125\n",
      "\t\t\t\t18:leaf=4,cover=125\n",
      "\t2:[f0<0.5] yes=5,no=6,missing=5,gain=1000,cover=1000\n",
      "\t\t5:[f2<0.5] yes=11,no=12,missing=11,gain=125,cover=500\n",
      "\t\t\t11:leaf=-3,cover=250\n",
      "\t\t\t12:[f3<0.5] yes=19,no=20,missing=19,gain=250,cover=250\n",
      "\t\t\t\t19:leaf=-3,cover=125\n",
      "\t\t\t\t20:leaf=-1,cover=125\n",
      "\t\t6:[f2<0.5] yes=13,no=14,missing=13,gain=125,cover=500\n",
      "\t\t\t13:leaf=-1,cover=250\n",
      "\t\t\t14:[f3<0.5] yes=21,no=22,missing=21,gain=250,cover=250\n",
      "\t\t\t\t21:leaf=-1,cover=125\n",
      "\t\t\t\t22:leaf=1,cover=125\n",
      "\n"
     ]
    }
   ],
   "source": [
    "# train a model with single tree\n",
    "Xd = xgb.DMatrix(X, label=y)\n",
    "model = xgb.train({\n",
    "    'eta':1, 'max_depth':4, 'base_score': 0, \"lambda\": 0\n",
    "}, Xd, 1)\n",
    "print(model.get_dump(with_stats=True)[0])"
   ]
  },
  {
   "cell_type": "code",
   "execution_count": 12,
   "metadata": {},
   "outputs": [
    {
     "data": {
      "text/plain": [
       "4.7683716e-07"
      ]
     },
     "execution_count": 12,
     "metadata": {},
     "output_type": "execute_result"
    }
   ],
   "source": [
    "# make sure the SHAP values add up to marginal predictions\n",
    "pred = model.predict(Xd, output_margin=True)\n",
    "shap_values = model.predict(Xd, pred_contribs=True, approx_contribs=False)\n",
    "np.abs(shap_values.sum(1) - pred).max()"
   ]
  },
  {
   "cell_type": "markdown",
   "metadata": {},
   "source": [
    "If we build a summary plot we see that now only feature 4 does not matter, and that features 2 and 3 can have four possible effect sizes since they interact with one another."
   ]
  },
  {
   "cell_type": "code",
   "execution_count": 13,
   "metadata": {},
   "outputs": [
    {
     "data": {
      "image/png": "[encoded data removed]",
      "text/plain": [
       "<matplotlib.figure.Figure at 0x105ecfa58>"
      ]
     },
     "metadata": {},
     "output_type": "display_data"
    }
   ],
   "source": [
    "shap.summary_plot(shap_values, X, feature_names=feature_names)"
   ]
  },
  {
   "cell_type": "code",
   "execution_count": 14,
   "metadata": {},
   "outputs": [],
   "source": [
    "true_interactions = np.zeros((X.shape[0],X.shape[1]+1,X.shape[1]+1))\n",
    "for i in range(X.shape[0]):\n",
    "    x = X[i,:]\n",
    "    a = y[X[:,2] == x[2]].mean() - y.mean()\n",
    "    b = y[(X[:,3] == x[3]) * (X[:,2] == x[2])].mean() - y[(X[:,3] == x[3])].mean()\n",
    "    true_interactions[i,2,3] = b - a\n",
    "    \n",
    "    a = y[(X[:,3] == x[3])].mean() - y.mean()\n",
    "    b = y[(X[:,2] == x[2]) * (X[:,3] == x[3])].mean() - y[(X[:,2] == x[2])].mean()\n",
    "    true_interactions[i,3,2] = b - a\n",
    "interaction_diag = shap_values - true_interactions.sum(2)\n",
    "for i in range(X.shape[0]):\n",
    "    true_interactions[i] += np.diag(interaction_diag[i])"
   ]
  },
  {
   "cell_type": "code",
   "execution_count": 15,
   "metadata": {},
   "outputs": [
    {
     "data": {
      "text/plain": [
       "array([[ 1.  ,  0.  ,  0.  ,  0.  ,  0.  ,  0.  ],\n",
       "       [ 0.  , -1.5 ,  0.  ,  0.  ,  0.  ,  0.  ],\n",
       "       [ 0.  ,  0.  ,  0.25,  0.5 ,  0.  ,  0.  ],\n",
       "       [ 0.  ,  0.  ,  0.5 ,  0.25,  0.  ,  0.  ],\n",
       "       [ 0.  ,  0.  ,  0.  ,  0.  ,  0.  ,  0.  ],\n",
       "       [ 0.  ,  0.  ,  0.  ,  0.  ,  0.  ,  0.  ]])"
      ]
     },
     "execution_count": 15,
     "metadata": {},
     "output_type": "execute_result"
    }
   ],
   "source": [
    "true_interactions[0].round(3)"
   ]
  },
  {
   "cell_type": "code",
   "execution_count": 16,
   "metadata": {},
   "outputs": [
    {
     "data": {
      "text/plain": [
       "array([[ 1.  ,  0.  ,  0.  ,  0.  ,  0.  ,  0.  ],\n",
       "       [-0.  , -1.5 ,  0.  ,  0.  ,  0.  ,  0.  ],\n",
       "       [ 0.  ,  0.  ,  0.25,  0.5 ,  0.  ,  0.  ],\n",
       "       [ 0.  ,  0.  ,  0.5 ,  0.25,  0.  ,  0.  ],\n",
       "       [ 0.  ,  0.  ,  0.  ,  0.  ,  0.  ,  0.  ],\n",
       "       [ 0.  ,  0.  ,  0.  ,  0.  ,  0.  ,  0.  ]], dtype=float32)"
      ]
     },
     "execution_count": 16,
     "metadata": {},
     "output_type": "execute_result"
    }
   ],
   "source": [
    "# SHAP interaction contributions:\n",
    "intr = model.predict(Xd, pred_interactions=True)\n",
    "intr[0].round(3)"
   ]
  },
  {
   "cell_type": "markdown",
   "metadata": {},
   "source": [
    "If we build a dependence plot for feature 0 we that it only takes two values and that these values are entirely dependent on the value of the feature (the value of feature 0 entirely determines it's effect because it has no interactions with other features)."
   ]
  },
  {
   "cell_type": "code",
   "execution_count": 17,
   "metadata": {},
   "outputs": [
    {
     "data": {
      "image/png": "[encoded data removed]",
      "text/plain": [
       "<matplotlib.figure.Figure at 0x1a1e360fd0>"
      ]
     },
     "metadata": {},
     "output_type": "display_data"
    }
   ],
   "source": [
    "shap.dependence_plot(0, shap_values, X, feature_names=feature_names)"
   ]
  },
  {
   "cell_type": "markdown",
   "metadata": {},
   "source": [
    "In contrast if we build an dependence plot for feature 2 we see that it takes 4 possible values and they are not entirely determined by the value of feature 2, instead they also depend on the value of feature 3. This vertical spread in a dependence plot represents the effects of non-linear interactions."
   ]
  },
  {
   "cell_type": "code",
   "execution_count": 18,
   "metadata": {},
   "outputs": [
    {
     "data": {
      "image/png": "[encoded data removed]",
      "text/plain": [
       "<matplotlib.figure.Figure at 0x1a1e592128>"
      ]
     },
     "metadata": {},
     "output_type": "display_data"
    }
   ],
   "source": [
    "shap.dependence_plot(2, shap_values, X, feature_names=feature_names)"
   ]
  }
 ],
 "metadata": {
  "anaconda-cloud": {},
  "kernelspec": {
   "display_name": "Python [default]",
   "language": "python",
   "name": "python3"
  },
  "language_info": {
   "codemirror_mode": {
    "name": "ipython",
    "version": 3
   },
   "file_extension": ".py",
   "mimetype": "text/x-python",
   "name": "python",
   "nbconvert_exporter": "python",
   "pygments_lexer": "ipython3",
   "version": "3.5.2"
  }
 },
 "nbformat": 4,
 "nbformat_minor": 1
}

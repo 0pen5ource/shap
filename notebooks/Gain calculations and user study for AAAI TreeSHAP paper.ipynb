{
 "cells": [
  {
   "cell_type": "code",
   "execution_count": 6,
   "metadata": {
    "collapsed": true
   },
   "outputs": [],
   "source": [
    "import matplotlib.pyplot as plt\n",
    "import numpy as np\n",
    "\n",
    "%matplotlib inline"
   ]
  },
  {
   "cell_type": "code",
   "execution_count": 1,
   "metadata": {
    "collapsed": false
   },
   "outputs": [
    {
     "name": "stdout",
     "output_type": "stream",
     "text": [
      "Path fever gain % for tree A = 0.3333333333333333\n",
      "Path cough gain % for tree A = 0.6666666666666666\n"
     ]
    }
   ],
   "source": [
    "root_mse = 0.25*(80-20)**2 + 0.75*(0-20)**2\n",
    "fever_mse = 0.25*(80-40)**2 + 0.25*(0-40)**2\n",
    "fever_and_cough_mse = 0\n",
    "print(\"Path fever gain % for tree A =\", (root_mse-fever_mse)/root_mse)\n",
    "print(\"Path cough gain % for tree A =\", (fever_mse-fever_and_cough_mse)/root_mse)"
   ]
  },
  {
   "cell_type": "code",
   "execution_count": 2,
   "metadata": {
    "collapsed": false
   },
   "outputs": [
    {
     "name": "stdout",
     "output_type": "stream",
     "text": [
      "Path cough gain % for tree B = 0.43859649122807015\n",
      "Path fever gain % for tree B = 0.5614035087719298\n"
     ]
    }
   ],
   "source": [
    "root_mse = 0.25*(90-25)**2 + 0.25*(10-25)**2 + 0.5*(0-25)**2\n",
    "cough_mse = 0.25*(90-50)**2 + 0.25*(10-50)**2\n",
    "fever_and_cough_mse = 0\n",
    "print(\"Path cough gain % for tree B =\", (root_mse-cough_mse)/root_mse)\n",
    "print(\"Path fever gain % for tree B =\", (fever_mse-fever_and_cough_mse)/root_mse)"
   ]
  },
  {
   "cell_type": "code",
   "execution_count": 3,
   "metadata": {
    "collapsed": false
   },
   "outputs": [
    {
     "name": "stdout",
     "output_type": "stream",
     "text": [
      "SHAP cough gain % for tree A = 0.5\n",
      "SHAP fever gain % for tree A = 0.5\n"
     ]
    }
   ],
   "source": [
    "import math\n",
    "def shapley_weight(N, S):\n",
    "    return math.factorial(S)*math.factorial(N-S-1)/math.factorial(N)\n",
    "\n",
    "# 11 => cough,fever\n",
    "root_mse = 0.25*(80-20)**2 + 0.75*(0-20)**2\n",
    "s00 = 0\n",
    "s01 = root_mse - (0.25*(80-40)**2 + 0.25*(0-40)**2)\n",
    "s10 = root_mse - (0.25*(0-0)**2 + 0.25*(0-0)**2 + 0.25*(0-40)**2 + 0.25*(80-40)**2)\n",
    "s11 = root_mse - 0\n",
    "\n",
    "print(\"SHAP cough gain % for tree A =\", (shapley_weight(2,0)*(s10-s00) + shapley_weight(2,1)*(s11-s01))/root_mse)\n",
    "print(\"SHAP fever gain % for tree A =\", (shapley_weight(2,0)*(s01-s00) + shapley_weight(2,1)*(s11-s10))/root_mse)"
   ]
  },
  {
   "cell_type": "code",
   "execution_count": 4,
   "metadata": {
    "collapsed": false
   },
   "outputs": [
    {
     "name": "stdout",
     "output_type": "stream",
     "text": [
      "SHAP fever gain % for tree B = 0.42105263157894735\n",
      "SHAP cough gain % for tree B = 0.5789473684210527\n"
     ]
    }
   ],
   "source": [
    "# 11 => fever,cough\n",
    "root_mse = 0.25*(90-25)**2 + 0.25*(10-25)**2 + 0.5*(0-25)**2\n",
    "s00 = 0\n",
    "s01 = root_mse - (0.25*(90-50)**2 + 0.25*(10-50)**2)\n",
    "s10 = root_mse - (0.25*(0-5)**2 + 0.25*(10-5)**2 + 0.25*(0-45)**2 + 0.25*(90-45)**2)\n",
    "s11 = root_mse - 0\n",
    "\n",
    "print(\"SHAP fever gain % for tree B =\", (shapley_weight(2,0)*(s10-s00) + shapley_weight(2,1)*(s11-s01))/root_mse)\n",
    "print(\"SHAP cough gain % for tree B =\", (shapley_weight(2,0)*(s01-s00) + shapley_weight(2,1)*(s11-s10))/root_mse)"
   ]
  },
  {
   "cell_type": "markdown",
   "metadata": {},
   "source": [
    "## User experiment results"
   ]
  },
  {
   "cell_type": "code",
   "execution_count": 66,
   "metadata": {
    "collapsed": false
   },
   "outputs": [],
   "source": [
    "user_results = [{\"cough_credit\": 30, \"fever_credit\": 30},\n",
    "{\"cough_credit\": 20, \"fever_credit\": 40},\n",
    "{\"cough_credit\": 30, \"fever_credit\": 30},\n",
    "{\"cough_credit\": 30, \"fever_credit\": 30},\n",
    "{\"cough_credit\": 45, \"fever_credit\": 15},\n",
    "{\"cough_credit\": 20, \"fever_credit\": 40},\n",
    "{\"cough_credit\": 60, \"fever_credit\": 20},\n",
    "{\"cough_credit\": 80, \"fever_credit\": 20},\n",
    "{\"cough_credit\": 40, \"fever_credit\": 40},\n",
    "{\"cough_credit\": 30, \"fever_credit\": 30},\n",
    "{\"cough_credit\": 20, \"fever_credit\": 40},\n",
    "{\"cough_credit\": 20, \"fever_credit\": 40},\n",
    "{\"cough_credit\": 10, \"fever_credit\": 50},\n",
    "{\"cough_credit\": 80, \"fever_credit\": 0},\n",
    "{\"cough_credit\": 40, \"fever_credit\": 40},\n",
    "{\"cough_credit\": 40, \"fever_credit\": 20},\n",
    "{\"cough_credit\": 35, \"fever_credit\": 25},\n",
    "{\"cough_credit\": 30, \"fever_credit\": 30},\n",
    "{\"cough_credit\": 20, \"fever_credit\": 40},\n",
    "{\"cough_credit\": 30, \"fever_credit\": 30},\n",
    "{\"cough_credit\": 30, \"fever_credit\": 30},\n",
    "{\"cough_credit\": 30, \"fever_credit\": 30},\n",
    "{\"cough_credit\": 40, \"fever_credit\": 20},\n",
    "{\"cough_credit\": 20, \"fever_credit\": 40},\n",
    "{\"cough_credit\": 20, \"fever_credit\": 40},\n",
    "{\"cough_credit\": 20, \"fever_credit\": 40},\n",
    "{\"cough_credit\": 30, \"fever_credit\": 30},\n",
    "{\"cough_credit\": 40, \"fever_credit\": 20},\n",
    "{\"cough_credit\": 30, \"fever_credit\": 30},\n",
    "{\"cough_credit\": 30, \"fever_credit\": 30},\n",
    "{\"cough_credit\": 35, \"fever_credit\": 25},\n",
    "{\"cough_credit\": 40, \"fever_credit\": 20},\n",
    "{\"cough_credit\": 60, \"fever_credit\": 20},\n",
    "{\"cough_credit\": 30, \"fever_credit\": 30}]\n",
    "\n",
    "vals = [str(r[\"fever_credit\"])+\"_\"+str(r[\"cough_credit\"]) for r in user_results]\n",
    "\n",
    "from collections import Counter\n",
    "c = Counter( vals )\n",
    "\n",
    "counts = list(c.items())\n",
    "counts.sort(key=lambda x: -x[1])"
   ]
  },
  {
   "cell_type": "code",
   "execution_count": 70,
   "metadata": {
    "collapsed": false
   },
   "outputs": [
    {
     "data": {
      "image/png": "[encoded data removed]",
      "text/plain": [
       "<matplotlib.figure.Figure at 0x1109741d0>"
      ]
     },
     "metadata": {},
     "output_type": "display_data"
    }
   ],
   "source": [
    "fig, ax = plt.subplots(figsize=(4.5,3.2))\n",
    "\n",
    "bar_list = plt.bar(np.array(range(len(counts)))*5+2.5, [c[1] for c in counts], width=3)\n",
    "[x.set_color('#bbbbbb') for x in bar_list]\n",
    "bar_list[0].set_color('#1E88E5')\n",
    "bar_list[2].set_color('#F52757')\n",
    "\n",
    "# just stuff for\n",
    "# leg1 = plt.bar(np.array([0]), [1])\n",
    "# [x.set_color('#1E88E5') for x in leg1]\n",
    "# leg2 = plt.bar(np.array([0]), [1])\n",
    "# [x.set_color('#F52757') for x in leg2]\n",
    "# leg3 = plt.bar(np.array([0]), [1])\n",
    "# [x.set_color('#bbbbbb') for x in leg3]\n",
    "\n",
    "import matplotlib.patches as mpatches\n",
    "\n",
    "shap_patch = mpatches.Patch(color='#1E88E5', label='SHAP')\n",
    "path_patch = mpatches.Patch(color='#F52757', label='Path')\n",
    "other_patch = mpatches.Patch(color='#bbbbbb', label='Other')\n",
    "plt.legend(handles=[blue_patch,path_patch,other_patch], frameon=False)\n",
    "\n",
    "\n",
    "plt.tick_params(\n",
    "    axis='x',          # changes apply to the x-axis\n",
    "    which='both',      # both major and minor ticks are affected\n",
    "    bottom='off',      # ticks along the bottom edge are off\n",
    "    top='off',         # ticks along the top edge are off\n",
    "    labelbottom='on') # labels along the bottom edge are off\n",
    "plt.tick_params(\n",
    "    axis='y',          # changes apply to the x-axis\n",
    "    which='both',      # both major and minor ticks are affected\n",
    "    left='on',      # ticks along the bottom edge are off\n",
    "    right='off',         # ticks along the top edge are off\n",
    "    labelbottom='on') # labels along the bottom edge are off\n",
    "\n",
    "ax.spines['top'].set_visible(False)\n",
    "ax.spines['right'].set_visible(False)\n",
    "ax.spines['left'].set_visible(True)\n",
    "plt.xticks(np.array(range(len(counts)))*5+4, [c[0].replace(\"_\", \"/\") for c in counts], fontsize=10, rotation='vertical')\n",
    "#plt.legend([\"SHAP\", \"Path\"], frameon=False, loc=\"upper center\")\n",
    "plt.ylabel(\"# of respondents\", fontsize=12)\n",
    "plt.xlabel(\"feature attribution values (fever/cough)\", fontsize=12)\n",
    "plt.xlim(0,53)\n",
    "plt.savefig(\"tree_max.pdf\")"
   ]
  },
  {
   "cell_type": "code",
   "execution_count": 28,
   "metadata": {
    "collapsed": false
   },
   "outputs": [
    {
     "data": {
      "text/plain": [
       "'30/30'"
      ]
     },
     "execution_count": 28,
     "metadata": {},
     "output_type": "execute_result"
    }
   ],
   "source": [
    "\"30_30\".replace(\"_\", \"/\")"
   ]
  },
  {
   "cell_type": "code",
   "execution_count": 11,
   "metadata": {
    "collapsed": false
   },
   "outputs": [
    {
     "data": {
      "text/plain": [
       "<matplotlib.text.Text at 0x10d9adba8>"
      ]
     },
     "execution_count": 11,
     "metadata": {},
     "output_type": "execute_result"
    },
    {
     "data": {
      "image/png": "[encoded data removed]",
      "text/plain": [
       "<matplotlib.figure.Figure at 0x10d8cc550>"
      ]
     },
     "metadata": {},
     "output_type": "display_data"
    }
   ],
   "source": [
    "fig, ax = plt.subplots(figsize=(4.5,3.2))\n",
    "\n",
    "bar_list = plt.bar(np.array([0,1])*5+1, [30, 30])\n",
    "[x.set_color('#bbbbbb') for x in bar_list]\n",
    "\n",
    "bar_list = plt.bar(np.array([0,1])*5+2, [30, 30])\n",
    "[x.set_color('#1E88E5') for x in bar_list]\n",
    "\n",
    "bar_list = plt.bar(np.array([0,1])*5+3, [20, 40])\n",
    "[x.set_color('#18C45D') for x in bar_list]\n",
    "\n",
    "plt.tick_params(\n",
    "    axis='x',          # changes apply to the x-axis\n",
    "    which='both',      # both major and minor ticks are affected\n",
    "    bottom='on',      # ticks along the bottom edge are off\n",
    "    top='off',         # ticks along the top edge are off\n",
    "    labelbottom='on') # labels along the bottom edge are off\n",
    "plt.tick_params(\n",
    "    axis='y',          # changes apply to the x-axis\n",
    "    which='both',      # both major and minor ticks are affected\n",
    "    left='on',      # ticks along the bottom edge are off\n",
    "    right='off',         # ticks along the top edge are off\n",
    "    labelbottom='on') # labels along the bottom edge are off\n",
    "\n",
    "ax.spines['top'].set_visible(False)\n",
    "ax.spines['right'].set_visible(False)\n",
    "ax.spines['left'].set_visible(True)\n",
    "plt.xticks(np.array([0,1])*5+2.4, [\"Fever\", \"Cough\"], fontsize=10)\n",
    "plt.legend([\"Human\", \"SHAP\", \"Path\"], frameon=False, loc=\"upper center\")\n",
    "plt.ylabel(\"feature attribution value\", fontsize=12)"
   ]
  },
  {
   "cell_type": "code",
   "execution_count": 23,
   "metadata": {
    "collapsed": false
   },
   "outputs": [],
   "source": [
    "counts.sort(key=lambda x: -x[1])"
   ]
  },
  {
   "cell_type": "code",
   "execution_count": 22,
   "metadata": {
    "collapsed": false
   },
   "outputs": [
    {
     "data": {
      "text/plain": [
       "[('40_40', 1),\n",
       " ('20_60', 1),\n",
       " ('20_80', 1),\n",
       " ('15_45', 1),\n",
       " ('40_20', 2),\n",
       " ('30_30', 4)]"
      ]
     },
     "execution_count": 22,
     "metadata": {},
     "output_type": "execute_result"
    }
   ],
   "source": [
    "counts"
   ]
  },
  {
   "cell_type": "code",
   "execution_count": 88,
   "metadata": {
    "collapsed": false
   },
   "outputs": [
    {
     "data": {
      "image/png": "[encoded data removed]",
      "text/plain": [
       "<matplotlib.figure.Figure at 0x1126e9588>"
      ]
     },
     "metadata": {},
     "output_type": "display_data"
    }
   ],
   "source": [
    "brute_force = [0.000547, 0.007596, 0.01731, 0.050687, 0.317647, 0.471027, 1.491240, 3.9685, 12.283, 40.28, 96.3355, 315.67518]\n",
    "fast_method = [0.000094, 0.000108, 0.000080, 0.000121, 0.000222, 0.000382, 0.000910, 0.00124, 0.0015, 0.0034, 0.00335, 0.00577]\n",
    "fig = plt.figure(figsize=(4.5,2.5))\n",
    "plt.semilogy(fast_method, color='#1E88E5', linewidth=2)\n",
    "plt.semilogy(brute_force, color='#7C52FF', linewidth=2)\n",
    "plt.ylabel(\"seconds of runtime\")\n",
    "plt.xlabel(\"number of input features and max tree depth\")\n",
    "plt.legend([\"TreeSHAP\", \"Brute force\"], frameon=False, loc=\"upper left\")\n",
    "plt.savefig(\"runtime.pdf\")"
   ]
  },
  {
   "cell_type": "code",
   "execution_count": null,
   "metadata": {
    "collapsed": true
   },
   "outputs": [],
   "source": []
  }
 ],
 "metadata": {
  "anaconda-cloud": {},
  "kernelspec": {
   "display_name": "Python [conda root]",
   "language": "python",
   "name": "conda-root-py"
  },
  "language_info": {
   "codemirror_mode": {
    "name": "ipython",
    "version": 3
   },
   "file_extension": ".py",
   "mimetype": "text/x-python",
   "name": "python",
   "nbconvert_exporter": "python",
   "pygments_lexer": "ipython3",
   "version": "3.5.2"
  }
 },
 "nbformat": 4,
 "nbformat_minor": 1
}

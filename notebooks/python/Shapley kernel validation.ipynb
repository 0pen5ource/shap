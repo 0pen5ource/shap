{
 "cells": [
  {
   "cell_type": "markdown",
   "metadata": {},
   "source": [
    "# Shapley kernel validation\n",
    "\n",
    "Here we prove that the Shapley kernel we found computationally is correct for all functions of up to 10 features. The proof is also computational, hence why we only show it for functions with few enough inputs that we can fully enumerate them. \n",
    "\n",
    "The classic Shapley value computation is \n",
    "\n",
    "\\begin{align}\n",
    "\\phi_i(f,x) &= \\sum_{S \\subseteq S_{all}} \\frac{f_x(S \\cup \\{i\\}) - f_x(S)}{{M \\choose |S|}(M-|S|)} \\\\\n",
    "&= \\sum_{S \\subseteq S_{all}} \\frac{f_x(S \\cup \\{i\\})}{{M \\choose |S|}(M-|S|)} - \\sum_{S \\subseteq S_{all}} \\frac{f_x(S)}{{M \\choose |S|}(M-|S|)}\n",
    "\\end{align}\n",
    "\n",
    "and since\n",
    "\n",
    "\\begin{align}\n",
    "\\sum_{S \\subseteq S_{all}} \\frac{1}{{M \\choose |S|}(M-|S|)} = 1\n",
    "\\end{align}\n",
    "\n",
    "we see that the classic Shapley value computation is a difference between two weighted means. This means that $\\phi_i(f,x)$ is a linear function of the vector of all function output values $f_x(S)$. So if any linear estimator that produces the correct answer for any basis of the output vector space must produce the right answer for all possible function outputs. Since the Shapley kernel estimation method is weighted a linear regression, it is also linear in the function output vector. We use this property below to show that the Shapley kernel regression method produces the correct Shapley values for all possible functions up to a given size (how large we can verify is determined by our computational resources). Given the perfect agreement for all functions of the sizes we verify, it is almost certain that such agreement continues for problem sizes we cannot enumerate.\n",
    "\n",
    "As an additional example (but not proof) of accuracy we also generate several random functions with more than 10 inputs and show perfect agreement."
   ]
  },
  {
   "cell_type": "markdown",
   "metadata": {},
   "source": [
    "## Validate that the Shapley kernel is correct for all functions of a given input dimension"
   ]
  },
  {
   "cell_type": "code",
   "execution_count": 2,
   "metadata": {
    "collapsed": false
   },
   "outputs": [],
   "source": [
    "# import the Julia libraries we will use\n",
    "using Iterators\n",
    "using ProgressMeter"
   ]
  },
  {
   "cell_type": "code",
   "execution_count": 3,
   "metadata": {
    "collapsed": false
   },
   "outputs": [
    {
     "data": {
      "text/plain": [
       "single_point_model (generic function with 1 method)"
      ]
     },
     "execution_count": 3,
     "metadata": {},
     "output_type": "execute_result"
    }
   ],
   "source": [
    "function classic_shapley(x, f, X, ind)\n",
    "    M = length(x)\n",
    "    val = 0.0\n",
    "    sumw = 0.0\n",
    "    for s in subsets(setdiff(1:M, ind))\n",
    "        S = length(s)\n",
    "        w = factorial(S)*factorial(M - S - 1)/factorial(M)\n",
    "        tmp = copy(X)\n",
    "        for i in 1:size(X)[2]\n",
    "            tmp[s,i] = x[s]\n",
    "        end\n",
    "        #println(tmp)\n",
    "        y1 = mean(f(tmp))\n",
    "        tmp[ind,:] = x[ind]\n",
    "        y2 = mean(f(tmp))\n",
    "        val += w*(y2-y1)\n",
    "        sumw += w\n",
    "    end\n",
    "    @assert abs(sumw - 1.0) < 1e-6\n",
    "    val\n",
    "end\n",
    "\n",
    "function shapley_kernel_weight(M, x)\n",
    "    s = length(x)\n",
    "    if s == M || s == 0\n",
    "        return 1e9\n",
    "    end\n",
    "    (M-1)/(binomial(M,s)*s*(M-s))\n",
    "end\n",
    "\n",
    "function kernel_shapley(x, f, X)\n",
    "    M = length(x)\n",
    "    X = zeros(M,2^M)\n",
    "    w = zeros(2^M)\n",
    "    fnull = f(zeros(M,1))[1]\n",
    "    fx = f(x)[1]\n",
    "    count = 1\n",
    "    for subset in subsets(1:M)\n",
    "        X[subset,count] = 1\n",
    "        w[count] = shapley_kernel_weight(M, subset)\n",
    "        count += 1\n",
    "    end\n",
    "    cX = X[1:M-1,:] .- X[M:M,:]\n",
    "    y = f(X) - fnull - (fx - fnull)*X[M,:]\n",
    "    \n",
    "    tmp = cX'.*w\n",
    "    b = inv(tmp'*cX')*tmp'*y\n",
    "    [b; (fx-fnull) - sum(b)]\n",
    "end\n",
    "\n",
    "function single_point_model(mask)\n",
    "    x->[convert(Float64, all(x[:,i] .== mask)) for i in 1:size(x)[2]]\n",
    "end"
   ]
  },
  {
   "cell_type": "code",
   "execution_count": 4,
   "metadata": {
    "collapsed": false
   },
   "outputs": [
    {
     "name": "stdout",
     "output_type": "stream",
     "text": [
      "Progress: 100%|█████████████████████████████████████████| Time: 0:00:03\n",
      "All functions of input dimension 1 are correct!\n",
      "All functions of input dimension 2 are correct!\n",
      "All functions of input dimension 3 are correct!\n",
      "All functions of input dimension 4 are correct!\n",
      "All functions of input dimension 5 are correct!\n",
      "Progress: 100%|█████████████████████████████████████████| Time: 0:00:00\n",
      "All functions of input dimension 6 are correct!\n",
      "Progress: 100%|█████████████████████████████████████████| Time: 0:00:01\n",
      "All functions of input dimension 7 are correct!\n",
      "Progress: 100%|█████████████████████████████████████████| Time: 0:00:05\n",
      "All functions of input dimension 8 are correct!\n",
      "Progress: 100%|█████████████████████████████████████████| Time: 0:00:25\n",
      "All functions of input dimension 9 are correct!\n",
      "Progress: 100%|█████████████████████████████████████████| Time: 0:01:44\n",
      "All functions of input dimension 10 are correct!\n"
     ]
    }
   ],
   "source": [
    "for M in 1:10\n",
    "    mask = zeros(M)\n",
    "    X = zeros(M, 1)\n",
    "    x = ones(M, 1)\n",
    "    masks = zeros(M, 2^M)\n",
    "    count = 1\n",
    "    @showprogress for s in subsets(1:M)\n",
    "        mask[:] = 0\n",
    "        mask[s] = 1\n",
    "        masks[:,count] = mask\n",
    "        count += 1\n",
    "        f = single_point_model(mask)\n",
    "        classic_vals = [classic_shapley(x, f, X, i) for i in 1:M]\n",
    "        kernel_vals = kernel_shapley(x, f, X)\n",
    "        if norm(kernel_vals - classic_vals) > 1e-12\n",
    "            error(\"Mismatch!\")\n",
    "        end\n",
    "    end\n",
    "    println(\"All functions of input dimension $M are correct!\")\n",
    "end"
   ]
  },
  {
   "cell_type": "markdown",
   "metadata": {},
   "source": [
    "## Verify that several random models of higher input dimensions are also correct"
   ]
  },
  {
   "cell_type": "code",
   "execution_count": 5,
   "metadata": {
    "collapsed": false
   },
   "outputs": [
    {
     "data": {
      "text/plain": [
       "gen_random_model (generic function with 1 method)"
      ]
     },
     "execution_count": 5,
     "metadata": {},
     "output_type": "execute_result"
    }
   ],
   "source": [
    "function gen_random_model(M)\n",
    "    model = Dict()\n",
    "    for k in subsets(collect(1:M))\n",
    "        model[k] = randn()\n",
    "    end\n",
    "    model\n",
    "end"
   ]
  },
  {
   "cell_type": "code",
   "execution_count": 9,
   "metadata": {
    "collapsed": false
   },
   "outputs": [
    {
     "name": "stdout",
     "output_type": "stream",
     "text": [
      "Progress: 100%|█████████████████████████████████████████| Time: 0:00:54\n"
     ]
    }
   ],
   "source": [
    "@showprogress for M in 1:18\n",
    "    srand(M)\n",
    "    model = gen_random_model(M)\n",
    "    X = zeros(M, 1)\n",
    "    x = randn(M, 1)\n",
    "    f = x->[model[find(x[:,i])] for i in 1:size(x)[2]]\n",
    "    v = norm([classic_shapley(x, f, X, i) for i in 1:M] - kernel_shapley(x, f, X))\n",
    "    assert(v < 1e-12)\n",
    "end"
   ]
  },
  {
   "cell_type": "code",
   "execution_count": null,
   "metadata": {
    "collapsed": true
   },
   "outputs": [],
   "source": []
  }
 ],
 "metadata": {
  "kernelspec": {
   "display_name": "Julia 0.5.0-rc3",
   "language": "julia",
   "name": "julia-0.5"
  },
  "language_info": {
   "file_extension": ".jl",
   "mimetype": "application/julia",
   "name": "julia",
   "version": "0.5.0"
  }
 },
 "nbformat": 4,
 "nbformat_minor": 0
}

{
 "cells": [
  {
   "cell_type": "markdown",
   "metadata": {},
   "source": [
    "# Explain basic LSTM from Keras Sequential Model"
   ]
  },
  {
   "cell_type": "code",
   "execution_count": 1,
   "metadata": {
    "scrolled": false
   },
   "outputs": [
    {
     "name": "stderr",
     "output_type": "stream",
     "text": [
      "Using TensorFlow backend.\n"
     ]
    },
    {
     "name": "stdout",
     "output_type": "stream",
     "text": [
      "_________________________________________________________________\n",
      "Layer (type)                 Output Shape              Param #   \n",
      "=================================================================\n",
      "lstm_1 (LSTM)                (None, 100)               40800     \n",
      "_________________________________________________________________\n",
      "dense_1 (Dense)              (None, 1)                 101       \n",
      "=================================================================\n",
      "Total params: 40,901\n",
      "Trainable params: 40,901\n",
      "Non-trainable params: 0\n",
      "_________________________________________________________________\n",
      "None\n"
     ]
    }
   ],
   "source": [
    "import shap, keras\n",
    "import numpy as np\n",
    "import tensorflow as tf\n",
    "from keras.datasets import imdb\n",
    "from keras.models import Sequential\n",
    "from keras.layers import Dense\n",
    "from keras.layers import LSTM\n",
    "from keras.layers.embeddings import Embedding\n",
    "from keras.preprocessing import sequence\n",
    "# fix random seed for reproducibility\n",
    "np.random.seed(7)\n",
    "# load the dataset but only keep the top n words, zero the rest\n",
    "top_words = 1000\n",
    "(X_train, y_train), (X_test, y_test) = imdb.load_data(num_words=top_words)\n",
    "# truncate and pad input sequences\n",
    "max_review_length = 100\n",
    "X_train = np.expand_dims(sequence.pad_sequences(X_train, maxlen=max_review_length),axis=2)\n",
    "X_test = np.expand_dims(sequence.pad_sequences(X_test, maxlen=max_review_length),axis=2)\n",
    "# create the model\n",
    "embedding_vector_length = 32\n",
    "mod = Sequential()\n",
    "# mod.add(Embedding(top_words, embedding_vector_length, input_length=max_review_length))\n",
    "mod.add(LSTM(100, input_shape=(100,1)))\n",
    "mod.add(Dense(1, activation='sigmoid'))\n",
    "mod.compile(loss='binary_crossentropy', optimizer='adam', metrics=['accuracy'])\n",
    "print(mod.summary())\n",
    "# mod.fit(np.expand_dims(X_train[0:5000,],axis=2), y_train[0:5000], epochs=1, batch_size=64)\n",
    "# Final evaluation of the model\n",
    "# scores = mod.evaluate(np.expand_dims(X_test,axis=2), y_test, verbose=0)\n",
    "# print(\"Accuracy: %.2f%%\" % (scores[1]*100))\n",
    "# mod.save('lstm_model.h5')  # creates a HDF5 file 'my_model.h5'\n",
    "\n",
    "# # Look at things in tensorboard\n",
    "# session = keras.backend.get_session()\n",
    "# file_writer = tf.summary.FileWriter('tmp/', session.graph)\n",
    "# # session.graph.get_operations()\n",
    "# # tensorboard --logdir /Users/hughchen/Desktop/deepshap/shap/notebooks/tmp/"
   ]
  },
  {
   "cell_type": "code",
   "execution_count": 3,
   "metadata": {
    "scrolled": true
   },
   "outputs": [],
   "source": [
    "inds = np.random.choice(X_train.shape[0], 3, replace=False)\n",
    "data = X_train[inds,:]\n",
    "test_in = X_test[10:11,:,:]\n",
    "e = shap.DeepExplainer((mod.layers[0].input, mod.layers[-1].input), data)\n",
    "shap_values = e.shap_values(test_in)\n",
    "sums = np.array([shap_values[i].sum() for i in range(len(shap_values))])\n",
    "sess = tf.keras.backend.get_session()\n",
    "diff = sess.run(mod.layers[-1].input, feed_dict={mod.layers[0].input: test_in})[0,:] - \\\n",
    "    sess.run(mod.layers[-1].input, feed_dict={mod.layers[0].input: data}).mean(0)\n",
    "assert np.allclose(sums, diff, atol=1e-06), \"Sum of SHAP values does not match difference!\""
   ]
  },
  {
   "cell_type": "code",
   "execution_count": null,
   "metadata": {},
   "outputs": [],
   "source": []
  }
 ],
 "metadata": {
  "kernelspec": {
   "display_name": "Python 3",
   "language": "python",
   "name": "python3"
  },
  "language_info": {
   "codemirror_mode": {
    "name": "ipython",
    "version": 3
   },
   "file_extension": ".py",
   "mimetype": "text/x-python",
   "name": "python",
   "nbconvert_exporter": "python",
   "pygments_lexer": "ipython3",
   "version": "3.6.5"
  }
 },
 "nbformat": 4,
 "nbformat_minor": 2
}

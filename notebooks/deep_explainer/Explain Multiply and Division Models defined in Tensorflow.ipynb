{
 "cells": [
  {
   "cell_type": "code",
   "execution_count": 1,
   "metadata": {},
   "outputs": [],
   "source": [
    "import shap\n",
    "import tensorflow as tf\n",
    "import numpy as np\n",
    "from sklearn import datasets\n",
    "from sklearn.model_selection import train_test_split\n",
    "\n",
    "RANDOM_SEED = 42\n",
    "tf.set_random_seed(RANDOM_SEED)\n",
    "\n",
    "def get_iris_data():\n",
    "    iris   = datasets.load_iris()\n",
    "    data   = iris[\"data\"]\n",
    "    target = iris[\"target\"]\n",
    "    # Prepend the column of 1s for bias\n",
    "    N, M  = data.shape\n",
    "    all_X = np.ones((N, M + 1))\n",
    "    all_X[:, 1:] = data\n",
    "    # Convert into one-hot vectors\n",
    "    num_labels = len(np.unique(target))\n",
    "    all_Y = np.eye(num_labels)[target]  # One liner trick!\n",
    "    return train_test_split(all_X, all_Y, test_size=0.33, random_state=RANDOM_SEED)"
   ]
  },
  {
   "cell_type": "markdown",
   "metadata": {},
   "source": [
    "# Example that generates nans"
   ]
  },
  {
   "cell_type": "code",
   "execution_count": 2,
   "metadata": {},
   "outputs": [],
   "source": [
    "train_X, test_X,_,_ = get_iris_data()\n",
    "# train_X = train_X[:,1:5]\n",
    "# test_X = test_X[:,1:5]\n",
    "inds = np.random.choice(train_X.shape[0], 3, replace=False)\n",
    "data = train_X[inds,:]\n",
    "test_in = test_X[10:11,:]\n",
    "x_size = train_X.shape[1]   # Number of input nodes: 4 features and 1 bias\n",
    "X = tf.placeholder(\"float\", shape=[None, x_size])"
   ]
  },
  {
   "cell_type": "code",
   "execution_count": 3,
   "metadata": {},
   "outputs": [
    {
     "name": "stdout",
     "output_type": "stream",
     "text": [
      "[[1.  5.7 2.9 4.2 1.3]\n",
      " [1.  7.6 3.  6.6 2.1]\n",
      " [1.  5.6 3.  4.5 1.5]\n",
      " [1.  5.1 3.5 1.4 0.2]\n",
      " [1.  7.7 2.8 6.7 2. ]\n",
      " [1.  5.8 2.7 4.1 1. ]\n",
      " [1.  5.2 3.4 1.4 0.2]\n",
      " [1.  5.  3.5 1.3 0.3]\n",
      " [1.  5.1 3.8 1.9 0.4]\n",
      " [1.  5.  2.  3.5 1. ]\n",
      " [1.  6.3 2.7 4.9 1.8]\n",
      " [1.  4.8 3.4 1.9 0.2]\n",
      " [1.  5.  3.  1.6 0.2]\n",
      " [1.  5.1 3.3 1.7 0.5]\n",
      " [1.  5.6 2.7 4.2 1.3]\n",
      " [1.  5.1 3.4 1.5 0.2]\n",
      " [1.  5.7 3.  4.2 1.2]\n",
      " [1.  7.7 3.8 6.7 2.2]\n",
      " [1.  4.6 3.2 1.4 0.2]\n",
      " [1.  6.2 2.9 4.3 1.3]\n",
      " [1.  5.7 2.5 5.  2. ]\n",
      " [1.  5.5 4.2 1.4 0.2]\n",
      " [1.  6.  3.  4.8 1.8]\n",
      " [1.  5.8 2.7 5.1 1.9]\n",
      " [1.  6.  2.2 4.  1. ]\n",
      " [1.  5.4 3.  4.5 1.5]\n",
      " [1.  6.2 3.4 5.4 2.3]\n",
      " [1.  5.5 2.3 4.  1.3]\n",
      " [1.  5.4 3.9 1.7 0.4]\n",
      " [1.  5.  2.3 3.3 1. ]\n",
      " [1.  6.4 2.7 5.3 1.9]\n",
      " [1.  5.  3.3 1.4 0.2]\n",
      " [1.  5.  3.2 1.2 0.2]\n",
      " [1.  5.5 2.4 3.8 1.1]\n",
      " [1.  6.7 3.  5.  1.7]\n",
      " [1.  4.9 3.1 1.5 0.1]\n",
      " [1.  5.8 2.8 5.1 2.4]\n",
      " [1.  5.  3.4 1.5 0.2]\n",
      " [1.  5.  3.5 1.6 0.6]\n",
      " [1.  5.9 3.2 4.8 1.8]\n",
      " [1.  5.1 2.5 3.  1.1]\n",
      " [1.  6.9 3.2 5.7 2.3]\n",
      " [1.  6.  2.7 5.1 1.6]\n",
      " [1.  6.1 2.6 5.6 1.4]\n",
      " [1.  7.7 3.  6.1 2.3]\n",
      " [1.  5.5 2.5 4.  1.3]\n",
      " [1.  4.4 2.9 1.4 0.2]\n",
      " [1.  4.3 3.  1.1 0.1]\n",
      " [1.  6.  2.2 5.  1.5]\n",
      " [1.  7.2 3.2 6.  1.8]\n",
      " [1.  4.6 3.1 1.5 0.2]\n",
      " [1.  5.1 3.5 1.4 0.3]\n",
      " [1.  4.4 3.  1.3 0.2]\n",
      " [1.  6.3 2.5 4.9 1.5]\n",
      " [1.  6.3 3.4 5.6 2.4]\n",
      " [1.  4.6 3.4 1.4 0.3]\n",
      " [1.  6.8 3.  5.5 2.1]\n",
      " [1.  6.3 3.3 6.  2.5]\n",
      " [1.  4.7 3.2 1.3 0.2]\n",
      " [1.  6.1 2.9 4.7 1.4]\n",
      " [1.  6.5 2.8 4.6 1.5]\n",
      " [1.  6.2 2.8 4.8 1.8]\n",
      " [1.  7.  3.2 4.7 1.4]\n",
      " [1.  6.4 3.2 5.3 2.3]\n",
      " [1.  5.1 3.8 1.6 0.2]\n",
      " [1.  6.9 3.1 5.4 2.1]\n",
      " [1.  5.9 3.  4.2 1.5]\n",
      " [1.  6.5 3.  5.2 2. ]\n",
      " [1.  5.7 2.6 3.5 1. ]\n",
      " [1.  5.2 2.7 3.9 1.4]\n",
      " [1.  6.1 3.  4.6 1.4]\n",
      " [1.  4.5 2.3 1.3 0.3]\n",
      " [1.  6.6 2.9 4.6 1.3]\n",
      " [1.  5.5 2.6 4.4 1.2]\n",
      " [1.  5.3 3.7 1.5 0.2]\n",
      " [1.  5.6 3.  4.1 1.3]\n",
      " [1.  7.3 2.9 6.3 1.8]\n",
      " [1.  6.7 3.3 5.7 2.1]\n",
      " [1.  5.1 3.7 1.5 0.4]\n",
      " [1.  4.9 2.4 3.3 1. ]\n",
      " [1.  6.7 3.3 5.7 2.5]\n",
      " [1.  7.2 3.  5.8 1.6]\n",
      " [1.  4.9 3.1 1.5 0.1]\n",
      " [1.  6.7 3.1 5.6 2.4]\n",
      " [1.  4.9 3.  1.4 0.2]\n",
      " [1.  6.9 3.1 4.9 1.5]\n",
      " [1.  7.4 2.8 6.1 1.9]\n",
      " [1.  6.3 2.9 5.6 1.8]\n",
      " [1.  5.7 2.8 4.1 1.3]\n",
      " [1.  6.5 3.  5.5 1.8]\n",
      " [1.  6.3 2.3 4.4 1.3]\n",
      " [1.  6.4 2.9 4.3 1.3]\n",
      " [1.  5.6 2.8 4.9 2. ]\n",
      " [1.  5.9 3.  5.1 1.8]\n",
      " [1.  5.4 3.4 1.7 0.2]\n",
      " [1.  6.1 2.8 4.  1.3]\n",
      " [1.  4.9 2.5 4.5 1.7]\n",
      " [1.  5.8 4.  1.2 0.2]\n",
      " [1.  5.8 2.6 4.  1.2]\n",
      " [1.  7.1 3.  5.9 2.1]]\n"
     ]
    }
   ],
   "source": [
    "print(train_X)"
   ]
  },
  {
   "cell_type": "markdown",
   "metadata": {},
   "source": [
    "### Multiplication"
   ]
  },
  {
   "cell_type": "code",
   "execution_count": 8,
   "metadata": {
    "scrolled": false
   },
   "outputs": [
    {
     "name": "stdout",
     "output_type": "stream",
     "text": [
      "[ 0.         11.59333391  1.03666701 14.87333215  2.50333347]\n",
      "[ 0.        11.593332   1.0366669 14.87333    2.5033336]\n"
     ]
    }
   ],
   "source": [
    "# yhat = tf.multiply(X[:,0:1],X)\n",
    "# yhat = tf.multiply(X,X[:,0:1])\n",
    "yhat = tf.multiply(X,X)\n",
    "model = (X,yhat)\n",
    "e = shap.DeepExplainer(model, data)\n",
    "shap_values = e.shap_values(test_in)\n",
    "sums = np.array([shap_values[i].sum() for i in range(len(shap_values))])\n",
    "sess = tf.Session()\n",
    "diff = sess.run(model[1], feed_dict={model[0]: test_in})[0,:] - \\\n",
    "       sess.run(model[1], feed_dict={model[0]: data}).mean(0)\n",
    "print(sums)\n",
    "print(diff)\n",
    "assert np.allclose(sums, diff, atol=1e-06), \"Sum of SHAP values does not match difference!\""
   ]
  },
  {
   "cell_type": "markdown",
   "metadata": {},
   "source": [
    "### Division"
   ]
  },
  {
   "cell_type": "code",
   "execution_count": 9,
   "metadata": {
    "scrolled": true
   },
   "outputs": [
    {
     "name": "stdout",
     "output_type": "stream",
     "text": [
      "[0.00000000e+00 2.98023224e-09 9.93410746e-09 0.00000000e+00\n",
      " 0.00000000e+00]\n",
      "[0. 0. 0. 0. 0.]\n"
     ]
    }
   ],
   "source": [
    "# yhat = tf.div(X,X[:,0:1]) # These examples don't work\n",
    "# yhat = tf.div(X[:,0:1],X) # These examples don't work\n",
    "# yhat = tf.div(X[:,0:2],X[:,2:4])\n",
    "yhat = tf.div(X,X)\n",
    "model = (X,yhat)\n",
    "e = shap.DeepExplainer(model, data)\n",
    "shap_values = e.shap_values(test_in)\n",
    "sums = np.array([shap_values[i].sum() for i in range(len(shap_values))])\n",
    "sess = tf.Session()\n",
    "diff = sess.run(model[1], feed_dict={model[0]: test_in})[0,:] - \\\n",
    "       sess.run(model[1], feed_dict={model[0]: data}).mean(0)\n",
    "print(sums)\n",
    "print(diff)\n",
    "assert np.allclose(sums, diff, atol=1e-06), \"Sum of SHAP values does not match difference!\""
   ]
  },
  {
   "cell_type": "code",
   "execution_count": null,
   "metadata": {},
   "outputs": [],
   "source": []
  }
 ],
 "metadata": {
  "kernelspec": {
   "display_name": "Python 3",
   "language": "python",
   "name": "python3"
  },
  "language_info": {
   "codemirror_mode": {
    "name": "ipython",
    "version": 3
   },
   "file_extension": ".py",
   "mimetype": "text/x-python",
   "name": "python",
   "nbconvert_exporter": "python",
   "pygments_lexer": "ipython3",
   "version": "3.6.5"
  }
 },
 "nbformat": 4,
 "nbformat_minor": 2
}
